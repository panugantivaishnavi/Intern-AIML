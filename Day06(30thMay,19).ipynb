{
 "cells": [
  {
   "cell_type": "markdown",
   "metadata": {},
   "source": [
    "# Internship\n",
    "## P.Bhanu Vaishnavi\n",
    "## Day 06\n",
    "## Date:30thMay,19"
   ]
  },
  {
   "cell_type": "markdown",
   "metadata": {},
   "source": [
    "## Mission 1:\n",
    "* Use the print() function to display the type of the list l.\n",
    "* Use the print() function to display the type of the string s.\n",
    "* Use the print() function to display the type of the dictionary d.\n"
   ]
  },
  {
   "cell_type": "code",
   "execution_count": 15,
   "metadata": {},
   "outputs": [
    {
     "name": "stdout",
     "output_type": "stream",
     "text": [
      "<class 'list'>\n",
      "<class 'str'>\n",
      "<class 'set'>\n",
      "<class 'dict'>\n"
     ]
    }
   ],
   "source": [
    "l=[1,2,3]\n",
    "s='lcml'\n",
    "sets={'dd','cn',1}# if only values are given ,it is a set\n",
    "d={'v':'k',1:2}# if key and values are given ,it is a dictionary\n",
    "print(type(li))\n",
    "print(type(string))\n",
    "print(type(sets))\n",
    "print(type(dictio))"
   ]
  },
  {
   "cell_type": "markdown",
   "metadata": {},
   "source": [
    "## Mission 3:\n",
    "Define our new class called NewList().\n",
    " * Use the pass keyword in the body of our class to avoid a SyntaxError."
   ]
  },
  {
   "cell_type": "code",
   "execution_count": 27,
   "metadata": {},
   "outputs": [],
   "source": [
    "class NewList():\n",
    "    pass"
   ]
  },
  {
   "cell_type": "markdown",
   "metadata": {},
   "source": [
    "## Mission 4:\n",
    "Define a new class called NewList:\n",
    " * Use NewList(DQ) when defining the class, so we can perform answer checking on your class.\n",
    " * Use the pass keyword so our empty class does not raise a SyntaxError.\n",
    " * Create an instance of the NewList class. Assign it to the variable name newlist_1.\n",
    " * Print the type of the newlist_1 variable.\n"
   ]
  },
  {
   "cell_type": "code",
   "execution_count": 29,
   "metadata": {},
   "outputs": [
    {
     "name": "stdout",
     "output_type": "stream",
     "text": [
      "<class '__main__.NewList'>\n"
     ]
    }
   ],
   "source": [
    "class NewList():\n",
    "    pass\n",
    "class NewList():\n",
    "    newlist_1=NewList()\n",
    "    print(type(newlist_1))\n",
    "    pass"
   ]
  },
  {
   "cell_type": "markdown",
   "metadata": {},
   "source": [
    "* Define a new class called NewList().\n",
    "* Use NewList(DQ) when defining the class, so we can perform answer checking on your class.\n",
    "* Inside the class, define a method called first_method().\n",
    "* Inside the method, return the string \"This is my first method\".\n",
    "* Create an instance of the NewList class. Assign it to the variable name newlist.\n"
   ]
  },
  {
   "cell_type": "code",
   "execution_count": 1,
   "metadata": {
    "scrolled": true
   },
   "outputs": [
    {
     "data": {
      "text/plain": [
       "'This is my first method'"
      ]
     },
     "execution_count": 1,
     "metadata": {},
     "output_type": "execute_result"
    }
   ],
   "source": [
    "class NewList():\n",
    "    def first_method(self):\n",
    "        return \"This is my first method\"\n",
    "newlist=NewList()\n",
    "newlist.first_method()"
   ]
  },
  {
   "cell_type": "code",
   "execution_count": null,
   "metadata": {},
   "outputs": [],
   "source": [
    "#access functions in a class"
   ]
  },
  {
   "cell_type": "code",
   "execution_count": 111,
   "metadata": {},
   "outputs": [
    {
     "name": "stdout",
     "output_type": "stream",
     "text": [
      "10\n"
     ]
    }
   ],
   "source": [
    "class NewList(): \n",
    "    def xyz(self):\n",
    "        self.x=5\n",
    "        self.w=9\n",
    "        i=self.abc()\n",
    "        return i\n",
    "    def abc(self):\n",
    "        c=self.w\n",
    "        c=c+1\n",
    "        return c\n",
    "    # define as self.variable and access it in any function\n",
    "newlist1=NewList()\n",
    "result=newlist1.xyz()\n",
    "print(result)"
   ]
  },
  {
   "cell_type": "code",
   "execution_count": 55,
   "metadata": {},
   "outputs": [
    {
     "name": "stdout",
     "output_type": "stream",
     "text": [
      "<__main__.NewList object at 0x0000021DDE442400>\n"
     ]
    }
   ],
   "source": [
    "class NewList():\n",
    "    def print_self(self):\n",
    "        print(self)\n",
    "    newlist1=NewList()\n",
    "result=newlist1\n",
    "print(result)"
   ]
  },
  {
   "cell_type": "code",
   "execution_count": 56,
   "metadata": {},
   "outputs": [
    {
     "name": "stdout",
     "output_type": "stream",
     "text": [
      "<__main__.NewList object at 0x0000021DDE442400>\n"
     ]
    }
   ],
   "source": [
    "print(newlist1)"
   ]
  }
 ],
 "metadata": {
  "kernelspec": {
   "display_name": "Python 3",
   "language": "python",
   "name": "python3"
  },
  "language_info": {
   "codemirror_mode": {
    "name": "ipython",
    "version": 3
   },
   "file_extension": ".py",
   "mimetype": "text/x-python",
   "name": "python",
   "nbconvert_exporter": "python",
   "pygments_lexer": "ipython3",
   "version": "3.7.3"
  }
 },
 "nbformat": 4,
 "nbformat_minor": 2
}
